{
  "nbformat": 4,
  "nbformat_minor": 0,
  "metadata": {
    "colab": {
      "provenance": [],
      "include_colab_link": true
    },
    "kernelspec": {
      "name": "ir",
      "display_name": "R"
    },
    "language_info": {
      "name": "R"
    }
  },
  "cells": [
    {
      "cell_type": "markdown",
      "metadata": {
        "id": "view-in-github",
        "colab_type": "text"
      },
      "source": [
        "<a href=\"https://colab.research.google.com/github/ellicarvalho/MDC_unicamp/blob/main/T03_615.ipynb\" target=\"_parent\"><img src=\"https://colab.research.google.com/assets/colab-badge.svg\" alt=\"Open In Colab\"/></a>"
      ]
    },
    {
      "cell_type": "markdown",
      "source": [
        "# Install Packages"
      ],
      "metadata": {
        "id": "1cfleqCGJH7m"
      }
    },
    {
      "cell_type": "code",
      "execution_count": null,
      "metadata": {
        "id": "IgQ_k9zOQKCM",
        "colab": {
          "base_uri": "https://localhost:8080/"
        },
        "outputId": "9ce058a6-749f-4363-9b34-514636d52fec"
      },
      "outputs": [
        {
          "output_type": "stream",
          "name": "stderr",
          "text": [
            "Installing package into ‘/usr/local/lib/R/site-library’\n",
            "(as ‘lib’ is unspecified)\n",
            "\n",
            "also installing the dependencies ‘listenv’, ‘parallelly’, ‘future’, ‘globals’, ‘R.methodsS3’, ‘R.oo’, ‘R.utils’, ‘bitops’, ‘shape’, ‘future.apply’, ‘numDeriv’, ‘progressr’, ‘SQUAREM’, ‘httpuv’, ‘xtable’, ‘sourcetools’, ‘later’, ‘promises’, ‘R.cache’, ‘caTools’, ‘TH.data’, ‘profileModel’, ‘minqa’, ‘nloptr’, ‘RcppEigen’, ‘lazyeval’, ‘plotrix’, ‘diagram’, ‘lava’, ‘shiny’, ‘miniUI’, ‘styler’, ‘classInt’, ‘labelled’, ‘gplots’, ‘libcoin’, ‘matrixStats’, ‘multcomp’, ‘iterators’, ‘Rcpp’, ‘clock’, ‘gower’, ‘hardhat’, ‘timeDate’, ‘brglm’, ‘gtools’, ‘lme4’, ‘qvcalc’, ‘rex’, ‘Formula’, ‘plotmo’, ‘prodlim’, ‘combinat’, ‘questionr’, ‘ROCR’, ‘mvtnorm’, ‘modeltools’, ‘strucchange’, ‘coin’, ‘zoo’, ‘sandwich’, ‘ISwR’, ‘corpcor’, ‘ROSE’, ‘e1071’, ‘foreach’, ‘ModelMetrics’, ‘plyr’, ‘pROC’, ‘recipes’, ‘reshape2’, ‘BradleyTerry2’, ‘covr’, ‘Cubist’, ‘earth’, ‘ellipse’, ‘fastICA’, ‘gam’, ‘ipred’, ‘kernlab’, ‘klaR’, ‘mda’, ‘mlbench’, ‘MLmetrics’, ‘pamr’, ‘party’, ‘pls’, ‘proxy’, ‘randomForest’, ‘RANN’, ‘spls’, ‘subselect’, ‘superpc’, ‘themis’\n",
            "\n",
            "\n"
          ]
        }
      ],
      "source": [
        "# instalando pacotes\n",
        "install.packages(\"caret\", dependencies = TRUE)\n",
        "install.packages(\"reshape2\", dependencies = TRUE)\n",
        "install.packages(\"ggplot2\")\n",
        "install.packages(\"rpart\", dependencies = TRUE)\n",
        "install.packages(\"rpart.plot\")\n",
        "install.packages(\"randomForest\", dependencies = TRUE)\n",
        "install.packages(\"ramify\")\n",
        "\n",
        "\n",
        "# carregando os pacotes\n",
        "library(ramify)\n",
        "library(caret)\n",
        "library(reshape2)\n",
        "library(ggplot2)\n",
        "library(rpart)\n",
        "library(rpart.plot)\n",
        "library(randomForest)\n",
        "library(glue)\n",
        "\n",
        "# configurando a seed\n",
        "SEED = 42\n",
        "set.seed(SEED)"
      ]
    },
    {
      "cell_type": "markdown",
      "source": [
        "# Funções Uteis"
      ],
      "metadata": {
        "id": "ktNaWGkROmLV"
      }
    },
    {
      "cell_type": "code",
      "source": [
        "calculaMatrizConfusaoRelativa <- function(cm){\n",
        "    cm_absolute = t(cm$table)\n",
        "    cm_relative = cm_absolute\n",
        "    cm_relative[1,] = round(cm_absolute[1,]/sum(cm_absolute[1,]), digits=2)\n",
        "    cm_relative[2,] = round(cm_absolute[2,]/sum(cm_absolute[2,]), digits=2)\n",
        "    return(cm_relative)\n",
        "}\n",
        "\n",
        "getHypothesis <- function(feature_names){\n",
        "\n",
        "    hypothesis_string <- \"hypothesis <- formula(Resultado ~ \"\n",
        "        for(i in 1:length(feature_names)){\n",
        "            hypothesis_string <- paste(hypothesis_string, feature_names[i],\" + \", sep = \"\")\n",
        "        }\n",
        "    hypothesis_string <- substr(hypothesis_string, 1, nchar(hypothesis_string)-3)\n",
        "    hypothesis_string <- paste(hypothesis_string, \")\")\n",
        "    hypothesis <- eval(parse(text=hypothesis_string))\n",
        "    return(hypothesis)\n",
        "}"
      ],
      "metadata": {
        "id": "vnWK1W6HoPma"
      },
      "execution_count": null,
      "outputs": []
    },
    {
      "cell_type": "markdown",
      "source": [
        "# Leitura e inspeção dos dados"
      ],
      "metadata": {
        "id": "VIMOUKEzOrxO"
      }
    },
    {
      "cell_type": "code",
      "source": [
        "data <- read.csv(\"/content/covid_analysis_train_val_sets.csv\", header=TRUE, stringsAsFactors=TRUE)\n",
        "test <- read.csv(\"/content/covid_analysis_test_set.csv\", header=TRUE, stringsAsFactors=TRUE)\n",
        "\n",
        "print(\"Dimensão dados:\")\n",
        "dim(data)\n",
        "print(\"Dados na?\")\n",
        "any(is.na(data))\n",
        "\n",
        "# Remove os elementos repetidos antes da divisao Treino/Validacao/Test\n",
        "data <- unique(data)\n",
        "print(\"Dimensão dados sem duplicados:\")\n",
        "dim(data)\n",
        "\n",
        "# Train 80% / Val 20%\n",
        "randomTrainIndexes <- sample(1:nrow(data), size=0.8*nrow(data))\n",
        "dataTrain <- data[randomTrainIndexes, ]\n",
        "dataVal  <- data[-randomTrainIndexes, ]\n",
        "\n",
        "print(\"Dimensão dados de treino:\")\n",
        "dim(dataTrain)\n",
        "print(\"Dimensão dados validação:\")\n",
        "dim(dataVal)\n",
        "\n",
        "print(\"Quantidade de exemplos por classe:\")\n",
        "table(dataTrain$Resultado)"
      ],
      "metadata": {
        "id": "JCj6Z761WIwd"
      },
      "execution_count": null,
      "outputs": []
    },
    {
      "cell_type": "markdown",
      "source": [
        "# Balanceamento\n",
        "> ### Por undersamplig, inicialmente existem approximadamente 4 exemplos_negativos para cada positivo, após o balanceamento por undersampling o dado de treino possui 1.4 exemplos_negativos para cada positivo."
      ],
      "metadata": {
        "id": "iZq2RkgBWViO"
      }
    },
    {
      "cell_type": "code",
      "source": [
        "dataTrainPOSITIVO <- dataTrain[dataTrain$Resultado == \"POSITIVO\",]\n",
        "dataTrainNEGATIVO <- dataTrain[dataTrain$Resultado == \"NEGATIVO\",]\n",
        "\n",
        "dim(dataTrainPOSITIVO)\n",
        "dim(dataTrainNEGATIVO)\n",
        "\n",
        "randomNEGATIVOIdx <- sample(1:nrow(dataTrainNEGATIVO), size=1.4*nrow(dataTrainPOSITIVO))\n",
        "subsamplingNEGATIVO <- dataTrainNEGATIVO[randomNEGATIVOIdx,]\n",
        "dataTrain <- rbind(dataTrainPOSITIVO, subsamplingNEGATIVO)\n",
        "table(dataTrain$Resultado)"
      ],
      "metadata": {
        "id": "Uwv_ggkJajNn"
      },
      "execution_count": null,
      "outputs": []
    },
    {
      "cell_type": "markdown",
      "source": [
        "# Baseline"
      ],
      "metadata": {
        "id": "EpD1R4lJloQ5"
      }
    },
    {
      "cell_type": "code",
      "source": [
        "feature_names <- colnames(dataTrain)[1:(ncol(dataTrain)-1)]\n",
        "hypothesis <- getHypothesis(feature_names)\n",
        "\n",
        "treeModel <- rpart(\n",
        "    formula=hypothesis,\n",
        "    data=dataTrain, method=\"class\",\n",
        "    control=rpart.control(\n",
        "        minsplit=2,\n",
        "        cp=0.0,\n",
        "        xval=0\n",
        "    ),\n",
        "    parms=list(split=\"information\")\n",
        "    )\n",
        "\n",
        "################## TRAIN\n",
        "train_pred <- predict(treeModel, dataTrain, type=\"class\")\n",
        "cm <- confusionMatrix(\n",
        "    data=as.factor(train_pred),\n",
        "    reference = as.factor(dataTrain$Resultado),\n",
        "    positive='POSITIVO'\n",
        ")\n",
        "\n",
        "cm_relative <- calculaMatrizConfusaoRelativa(cm)\n",
        "acc_bal <- (cm_relative[1,1] + cm_relative[2,2])/2\n",
        "\n",
        "print(glue('\\n\\n','BASELINE:'))\n",
        "print(glue('>>> TRAIN: Acc balanceada: {acc_bal}', '\\n\\n'))\n",
        "print(glue('>>> TRAIN: Matriz de Confusão:','\\n\\n'))\n",
        "print(format(cm_relative))\n",
        "\n",
        "\n",
        "################## VALIDATION\n",
        "val_pred <- predict(treeModel, dataVal, type=\"class\")\n",
        "cm <- confusionMatrix(\n",
        "    data=as.factor(val_pred),\n",
        "    reference = as.factor(dataVal$Resultado),\n",
        "    positive='POSITIVO'\n",
        ")\n",
        "\n",
        "cm_relative <- calculaMatrizConfusaoRelativa(cm)\n",
        "acc_bal <- (cm_relative[1,1] + cm_relative[2,2])/2\n",
        "\n",
        "print(glue('\\n\\n','BASELINE:'))\n",
        "print(glue('>>> VAL: Acc balanceada: {acc_bal}', '\\n\\n'))\n",
        "print(glue('>>> VAL: Matriz de Confusão:','\\n\\n'))\n",
        "print(format(cm_relative))\n",
        "\n",
        "\n",
        "################## TEST\n",
        "test_pred <- predict(treeModel, test, type=\"class\")\n",
        "cm <- confusionMatrix(\n",
        "    data=as.factor(test_pred),\n",
        "    reference = as.factor(test$Resultado),\n",
        "    positive='POSITIVO'\n",
        ")\n",
        "\n",
        "cm_relative <- calculaMatrizConfusaoRelativa(cm)\n",
        "acc_bal <- (cm_relative[1,1] + cm_relative[2,2])/2\n",
        "\n",
        "print(glue('\\n\\n','BASELINE:'))\n",
        "print(glue('>>> TEST: Acc balanceada: {acc_bal}', '\\n\\n'))\n",
        "print(glue('>>> TEST: Matriz de Confusão:','\\n\\n'))\n",
        "print(format(cm_relative))"
      ],
      "metadata": {
        "id": "D0T5VkL4ZMsO"
      },
      "execution_count": null,
      "outputs": []
    },
    {
      "cell_type": "markdown",
      "source": [
        "# Árvores com variação de profundidade e plot"
      ],
      "metadata": {
        "id": "4mcdL1pQXibW"
      }
    },
    {
      "cell_type": "code",
      "source": [
        "########## ACC Vs Depth\n",
        "number_of_depths = 20\n",
        "accPerDepth <- data.frame(\n",
        "    depth=numeric(number_of_depths),\n",
        "    accTrain=numeric(number_of_depths),\n",
        "    accVal=numeric(number_of_depths)\n",
        ")\n",
        "\n",
        "for (maxDepth in 1:number_of_depths){\n",
        "    treeModel <- rpart(\n",
        "        formula=hypothesis,\n",
        "        data=dataTrain,\n",
        "        method=\"class\",\n",
        "        control=rpart.control(minsplit=2, cp=0.0, maxdepth=maxDepth, xval=0),\n",
        "    parms=list(split=\"information\")\n",
        "    )\n",
        "\n",
        "    # Avaliando no conjunto de treino\n",
        "    train_pred <- predict(treeModel, dataTrain, type=\"class\")\n",
        "    cm_train <- confusionMatrix(\n",
        "        data=as.factor(train_pred),\n",
        "        reference=as.factor(dataTrain$Resultado),\n",
        "        positive='POSITIVO'\n",
        "    )\n",
        "\n",
        "    cm_relative_train <- calculaMatrizConfusaoRelativa(cm_train)\n",
        "    acc_bal_train <- (cm_relative_train[1,1] + cm_relative_train[2,2])/2\n",
        "\n",
        "    # Avaliando no conjunto de validacao\n",
        "    val_pred <- predict(treeModel, dataVal, type=\"class\")\n",
        "    cm_val <- confusionMatrix(\n",
        "        data=as.factor(val_pred),\n",
        "        reference = as.factor(dataVal$Resultado),\n",
        "        positive='POSITIVO'\n",
        "    )\n",
        "\n",
        "    cm_relative_val <- calculaMatrizConfusaoRelativa(cm_val)\n",
        "    acc_bal_val <- (cm_relative_val[1,1] + cm_relative_val[2,2])/2\n",
        "\n",
        "    accPerDepth[maxDepth,] = c(maxDepth, acc_bal_train, acc_bal_val)\n",
        "}\n",
        "\n",
        "\n",
        "# PLOT: ACC Balanceada X Profundidade da Árvore\n",
        "options(repr.plot.width=12, repr.plot.height=5)\n",
        "accPerDepth <- melt(accPerDepth, id=\"depth\")\n",
        "\n",
        "p <- ggplot(data=accPerDepth, aes(x=depth, y=value, colour=variable)) + geom_line() + geom_point()\n",
        "p <- p + ggtitle(\"ACC Balanceada X Profundidade da Árvore\") + ylab(\"ACC Balanceada\") + scale_x_discrete(\n",
        "                  name=\"Profundidade\", limits=as.character(1:number_of_depths))\n",
        "p + theme(\n",
        "    plot.title=element_text(hjust=0.5),\n",
        "    legend.position=c(0.5, 0.5),\n",
        "    text=element_text(size=20),\n",
        "    title = element_text(color = \"grey20\", size=18),\n",
        "    panel.background = element_blank(),\n",
        "    panel.grid.minor.y = element_line(size=1),\n",
        "    panel.grid.major = element_line(colour=\"gray\"),\n",
        "    )"
      ],
      "metadata": {
        "id": "eMKctb1LZYys"
      },
      "execution_count": null,
      "outputs": []
    },
    {
      "cell_type": "markdown",
      "source": [
        "# Solução com tamanho ótimo"
      ],
      "metadata": {
        "id": "IcQvKyvH8nti"
      }
    },
    {
      "cell_type": "code",
      "source": [
        "feature_names <- colnames(dataTrain)[1:(ncol(dataTrain)-1)]\n",
        "hypothesis <- getHypothesis(feature_names)\n",
        "\n",
        "treeModel <- rpart(\n",
        "    formula=hypothesis,\n",
        "    data=dataTrain, method=\"class\",\n",
        "    control=rpart.control(\n",
        "        maxdepth=3, # regiao ótima de profundidade\n",
        "        minsplit=2,\n",
        "        cp=0.0,\n",
        "        xval=0,\n",
        "        ),\n",
        "    parms=list(split=\"information\")\n",
        "    )\n",
        "\n",
        "################## TRAIN\n",
        "train_pred <- predict(treeModel, dataTrain, type=\"class\")\n",
        "cm <- confusionMatrix(\n",
        "    data=as.factor(train_pred),\n",
        "    reference = as.factor(dataTrain$Resultado),\n",
        "    positive='POSITIVO'\n",
        ")\n",
        "\n",
        "cm_relative <- calculaMatrizConfusaoRelativa(cm)\n",
        "acc_bal <- (cm_relative[1,1] + cm_relative[2,2])/2\n",
        "\n",
        "print(glue('\\n\\n','TAMANHO ÓTIMO:'))\n",
        "print(glue('>>> TRAIN: Acc balanceada: {acc_bal}', '\\n\\n'))\n",
        "print(glue('>>> TRAIN: Matriz de Confusão:','\\n\\n'))\n",
        "print(format(cm_relative))\n",
        "\n",
        "\n",
        "################## VALIDATION\n",
        "val_pred <- predict(treeModel, dataVal, type=\"class\")\n",
        "cm <- confusionMatrix(\n",
        "    data=as.factor(val_pred),\n",
        "    reference = as.factor(dataVal$Resultado),\n",
        "    positive='POSITIVO'\n",
        ")\n",
        "\n",
        "cm_relative <- calculaMatrizConfusaoRelativa(cm)\n",
        "acc_bal <- (cm_relative[1,1] + cm_relative[2,2])/2\n",
        "\n",
        "print(glue('\\n\\n','TAMANHO ÓTIMO:'))\n",
        "print(glue('>>> VAL: Acc balanceada: {acc_bal}', '\\n\\n'))\n",
        "print(glue('>>> VAL: Matriz de Confusão:','\\n\\n'))\n",
        "print(format(cm_relative))\n",
        "\n",
        "\n",
        "################## TEST\n",
        "test_pred <- predict(treeModel, test, type=\"class\")\n",
        "cm <- confusionMatrix(\n",
        "    data=as.factor(test_pred),\n",
        "    reference = as.factor(test$Resultado),\n",
        "    positive='POSITIVO'\n",
        ")\n",
        "\n",
        "cm_relative <- calculaMatrizConfusaoRelativa(cm)\n",
        "acc_bal <- (cm_relative[1,1] + cm_relative[2,2])/2\n",
        "\n",
        "print(glue('\\n\\n','TAMANHO ÓTIMO:'))\n",
        "print(glue('>>> TEST: Acc balanceada: {acc_bal}', '\\n\\n'))\n",
        "print(glue('>>> TEST: Matriz de Confusão:','\\n\\n'))\n",
        "print(format(cm_relative"
      ],
      "metadata": {
        "id": "2EYJ-oPV8nad"
      },
      "execution_count": null,
      "outputs": []
    },
    {
      "cell_type": "markdown",
      "source": [
        "# Feature Selection\n",
        "> #### Explorem pelo menos 2 possíveis subconjuntos de features (feature selection) para treinar duas (ou mais) árvores de decisão. Tomem o melhor modelo baseado na acurácia balanceada no conjunto de validação, e reportem a matriz de confusão relativa e a acurácia balanceada do no conjunto de teste"
      ],
      "metadata": {
        "id": "tbySkqc0TQC5"
      }
    },
    {
      "cell_type": "code",
      "source": [
        "treeModel <- rpart(\n",
        "    formula=hypothesis,\n",
        "    data=dataTrain, method=\"class\",\n",
        "    control=rpart.control(minsplit=2, cp=0.0, xval=0),\n",
        "    parms=list(split=\"information\")\n",
        ")\n",
        "\n",
        "importance_per_feature <- treeModel$variable.importance\n",
        "relative_importance <- importance_per_feature/sum(importance_per_feature)\n",
        "print(relative_importance)"
      ],
      "metadata": {
        "id": "rQj7umd7fX6l"
      },
      "execution_count": null,
      "outputs": []
    },
    {
      "cell_type": "code",
      "source": [
        "top_10_features   <- c('Dimeros.D..quantitativo','DHL','Hemoglobina','Ureia','Leucocitos','Neutrofilos','Hematocrito','Linfocitos....','Concentracao.de.Hemoglobina.Corpuscular', 'ctO2.arterial')\n",
        "least_10_features <- c('Fracao.Imatura.de.Plaquetas','Volume.plaquetario.medio','Hormonio.Tiroestimulante', 'Sodio..sangue','Lactato..sangue' ,'T4.Livre','p50.arterial','Globulinas','Cloro..sangue','Potassio..sangue.total')\n",
        "top10_least10     <- c(top_10_features, least_10_features)"
      ],
      "metadata": {
        "id": "v9TFvUNaiRT_"
      },
      "execution_count": null,
      "outputs": []
    },
    {
      "cell_type": "markdown",
      "source": [
        "## Árvore com top10 feature importance"
      ],
      "metadata": {
        "id": "bj__m5O8lRto"
      }
    },
    {
      "cell_type": "code",
      "source": [
        "hipotese_top10feat <- getHypothesis(top_10_features)\n",
        "\n",
        "treeModel_top10 <- rpart(\n",
        "    formula=hipotese_top10feat,\n",
        "    data=dataTrain, method=\"class\",\n",
        "    control=rpart.control(\n",
        "        minsplit=2,\n",
        "        maxdepth=3, # regiao ótima de profundidade\n",
        "        cp=0.0,\n",
        "        xval=10\n",
        "    ),\n",
        "    parms=list(split=\"information\")\n",
        ")\n",
        "\n",
        "################## TRAIN\n",
        "train_pred <- predict(treeModel_top10, dataTrain, type=\"class\")\n",
        "cm <- confusionMatrix(\n",
        "    data=as.factor(train_pred),\n",
        "    reference = as.factor(dataTrain$Resultado),\n",
        "    positive='POSITIVO'\n",
        ")\n",
        "\n",
        "cm_relative <- calculaMatrizConfusaoRelativa(cm)\n",
        "acc_bal <- (cm_relative[1,1] + cm_relative[2,2])/2\n",
        "\n",
        "print(glue('\\n\\n','TOP10 Features (TAMANHO ÓTIMO):'))\n",
        "print(glue('>>> TRAIN: Acc balanceada: {acc_bal}', '\\n\\n'))\n",
        "print(glue('>>> TRAIN: Matriz de Confusão:','\\n\\n'))\n",
        "print(format(cm_relative))\n",
        "\n",
        "\n",
        "################## VALIDATION\n",
        "val_pred <- predict(treeModel_top10, dataVal, type=\"class\")\n",
        "cm <- confusionMatrix(\n",
        "    data=as.factor(val_pred),\n",
        "    reference = as.factor(dataVal$Resultado),\n",
        "    positive='POSITIVO'\n",
        ")\n",
        "\n",
        "cm_relative <- calculaMatrizConfusaoRelativa(cm)\n",
        "acc_bal <- (cm_relative[1,1] + cm_relative[2,2])/2\n",
        "\n",
        "print(glue('\\n\\n','TOP10 Features (TAMANHO ÓTIMO):'))\n",
        "print(glue('>>> VAL: Acc balanceada: {acc_bal}', '\\n\\n'))\n",
        "print(glue('>>> VAL: Matriz de Confusão:','\\n\\n'))\n",
        "print(format(cm_relative))\n",
        "\n",
        "################## TEST\n",
        "test_pred <- predict(treeModel_top10, test, type=\"class\")\n",
        "cm <- confusionMatrix(\n",
        "    data=as.factor(test_pred),\n",
        "    reference = as.factor(test$Resultado),\n",
        "    positive='POSITIVO'\n",
        ")\n",
        "\n",
        "cm_relative <- calculaMatrizConfusaoRelativa(cm)\n",
        "acc_bal <- (cm_relative[1,1] + cm_relative[2,2])/2\n",
        "\n",
        "print(glue('\\n\\n','TOP10 Features (TAMANHO ÓTIMO):'))\n",
        "print(glue('>>> TEST: Acc balanceada: {acc_bal}', '\\n\\n'))\n",
        "print(glue('>>> TEST: Matriz de Confusão:','\\n\\n'))\n",
        "print(format(cm_relative))"
      ],
      "metadata": {
        "id": "I9-et9arhInp"
      },
      "execution_count": null,
      "outputs": []
    },
    {
      "cell_type": "markdown",
      "source": [
        "## Árvore com as 10 features menos importantes"
      ],
      "metadata": {
        "id": "Bvsjftz7lWnY"
      }
    },
    {
      "cell_type": "code",
      "source": [
        "hipotese_least10feat <- getHypothesis(least_10_features)\n",
        "\n",
        "treeModel_least10 <- rpart(\n",
        "    formula=hipotese_least10feat,\n",
        "    data=dataTrain, method=\"class\",\n",
        "    control=rpart.control(\n",
        "        minsplit=2,\n",
        "        maxdepth=2, # regiao ótima de profundidade\n",
        "        cp=0.0,\n",
        "        xval=0\n",
        "    ),\n",
        "    parms=list(split=\"information\")\n",
        ")\n",
        "\n",
        "################## TRAIN\n",
        "train_pred <- predict(treeModel_least10, dataTrain, type=\"class\")\n",
        "cm <- confusionMatrix(\n",
        "    data=as.factor(train_pred),\n",
        "    reference = as.factor(dataTrain$Resultado),\n",
        "    positive='POSITIVO'\n",
        ")\n",
        "\n",
        "cm_relative <- calculaMatrizConfusaoRelativa(cm)\n",
        "acc_bal <- (cm_relative[1,1] + cm_relative[2,2])/2\n",
        "\n",
        "print(glue('\\n\\n','LEAST10 Features (TAMANHO ÓTIMO):'))\n",
        "print(glue('>>> TRAIN: Acc balanceada: {acc_bal}', '\\n\\n'))\n",
        "print(glue('>>> TRAIN: Matriz de Confusão:','\\n\\n'))\n",
        "print(format(cm_relative))\n",
        "\n",
        "\n",
        "################## VALIDATION\n",
        "val_pred <- predict(treeModel_least10, dataVal, type=\"class\")\n",
        "cm <- confusionMatrix(\n",
        "    data=as.factor(val_pred),\n",
        "    reference = as.factor(dataVal$Resultado),\n",
        "    positive='POSITIVO'\n",
        ")\n",
        "\n",
        "cm_relative <- calculaMatrizConfusaoRelativa(cm)\n",
        "acc_bal <- (cm_relative[1,1] + cm_relative[2,2])/2\n",
        "\n",
        "print(glue('\\n\\n','LEAST10 Features (TAMANHO ÓTIMO):'))\n",
        "print(glue('>>> VAL: Acc balanceada: {acc_bal}', '\\n\\n'))\n",
        "print(glue('>>> VAL: Matriz de Confusão:','\\n\\n'))\n",
        "print(format(cm_relative))\n",
        "\n",
        "################## TEST\n",
        "test_pred <- predict(treeModel_least10, test, type=\"class\")\n",
        "cm <- confusionMatrix(\n",
        "    data=as.factor(test_pred),\n",
        "    reference = as.factor(test$Resultado),\n",
        "    positive='POSITIVO'\n",
        ")\n",
        "\n",
        "cm_relative <- calculaMatrizConfusaoRelativa(cm)\n",
        "acc_bal <- (cm_relative[1,1] + cm_relative[2,2])/2\n",
        "\n",
        "print(glue('\\n\\n','LEAST10 Features (TAMANHO ÓTIMO):'))\n",
        "print(glue('>>> TEST: Acc balanceada: {acc_bal}', '\\n\\n'))\n",
        "print(glue('>>> TEST: Matriz de Confusão:','\\n\\n'))\n",
        "print(format(cm_relative))"
      ],
      "metadata": {
        "id": "6UWy-FwTRl-_"
      },
      "execution_count": null,
      "outputs": []
    },
    {
      "cell_type": "markdown",
      "source": [
        "## Árvore com as 10 mais e menos importantes"
      ],
      "metadata": {
        "id": "5ai161Vjla5R"
      }
    },
    {
      "cell_type": "code",
      "source": [
        "hipotese_top_least_10_feat <- getHypothesis(top10_least10)\n",
        "\n",
        "treeModel_top_least_10 <- rpart(\n",
        "    formula=hipotese_top_least_10_feat,\n",
        "    data=dataTrain, method=\"class\",\n",
        "    control=rpart.control(\n",
        "        minsplit=2,\n",
        "        maxdepth=2, # regiao ótima de profundidade\n",
        "        cp=0.0,\n",
        "        xval=0\n",
        "    ),\n",
        "    parms=list(split=\"information\")\n",
        ")\n",
        "\n",
        "################## TRAIN\n",
        "train_pred <- predict(treeModel_top_least_10, dataTrain, type=\"class\")\n",
        "cm <- confusionMatrix(\n",
        "    data=as.factor(train_pred),\n",
        "    reference = as.factor(dataTrain$Resultado),\n",
        "    positive='POSITIVO'\n",
        ")\n",
        "\n",
        "cm_relative <- calculaMatrizConfusaoRelativa(cm)\n",
        "acc_bal <- (cm_relative[1,1] + cm_relative[2,2])/2\n",
        "\n",
        "print(glue('\\n\\n','TOP10_com_LEAST10 Features (TAMANHO ÓTIMO):'))\n",
        "print(glue('>>> TRAIN: Acc balanceada: {acc_bal}', '\\n\\n'))\n",
        "print(glue('>>> TRAIN: Matriz de Confusão:','\\n\\n'))\n",
        "print(format(cm_relative))\n",
        "\n",
        "\n",
        "################## VALIDATION\n",
        "val_pred <- predict(treeModel_top_least_10, dataVal, type=\"class\")\n",
        "cm <- confusionMatrix(\n",
        "    data=as.factor(val_pred),\n",
        "    reference = as.factor(dataVal$Resultado),\n",
        "    positive='POSITIVO'\n",
        ")\n",
        "\n",
        "cm_relative <- calculaMatrizConfusaoRelativa(cm)\n",
        "acc_bal <- (cm_relative[1,1] + cm_relative[2,2])/2\n",
        "\n",
        "print(glue('\\n\\n','TOP10_com_LEAST10 Features (TAMANHO ÓTIMO):'))\n",
        "print(glue('>>> VAL: Acc balanceada: {acc_bal}', '\\n\\n'))\n",
        "print(glue('>>> VAL: Matriz de Confusão:','\\n\\n'))\n",
        "print(format(cm_relative))\n",
        "\n",
        "################## TEST\n",
        "test_pred <- predict(treeModel_top_least_10, test, type=\"class\")\n",
        "cm <- confusionMatrix(\n",
        "    data=as.factor(test_pred),\n",
        "    reference = as.factor(test$Resultado),\n",
        "    positive='POSITIVO'\n",
        ")\n",
        "\n",
        "cm_relative <- calculaMatrizConfusaoRelativa(cm)\n",
        "acc_bal <- (cm_relative[1,1] + cm_relative[2,2])/2\n",
        "\n",
        "print(glue('\\n\\n','LEAST10 Features (TAMANHO ÓTIMO):'))\n",
        "print(glue('>>> TEST: Acc balanceada: {acc_bal}', '\\n\\n'))\n",
        "print(glue('>>> TEST: Matriz de Confusão:','\\n\\n'))\n",
        "print(format(cm_relative))"
      ],
      "metadata": {
        "id": "bXymUndalQt0"
      },
      "execution_count": null,
      "outputs": []
    },
    {
      "cell_type": "markdown",
      "source": [
        "## Conclusão do Feature Selection\n",
        "### melhor resultado top10_features"
      ],
      "metadata": {
        "id": "tq4C7dyhlwYi"
      }
    },
    {
      "cell_type": "markdown",
      "source": [
        "# Random Forest\n",
        "> #### Treinem várias florestas aleatórias variando o número de árvores. Plotem a acurácia balanceada no conjunto de treinamento e validação variando o número de árvores geradas. Identifiquem as regiões de underfitting, ponto ótimo e verfitting. Reportem também a matriz de confusão relativa e a acurácia balanceada no teste para a floresta com o melhor número de árvores."
      ],
      "metadata": {
        "id": "CJ2ruJ4lm4j9"
      }
    },
    {
      "cell_type": "code",
      "source": [
        "# Treina uma Floresta Aleatoria\n",
        "rfModel <- randomForest(\n",
        "    formula=hypothesis,\n",
        "    data=dataTrain,\n",
        "    ntree=100,\n",
        "    mtry=7\n",
        "    )\n",
        "\n",
        "# Plotando o erro para cada classe a para OOB.\n",
        "layout(matrix(c(1,2),nrow=1), width=c(4,1))\n",
        "par(mar=c(5,4,4,0)) # Sem margem no lado direito\n",
        "plot(rfModel, log=\"y\")\n",
        "par(mar=c(5,0,4,2)) # Sem margem do lado esquerdo\n",
        "plot(c(0,1),type=\"n\", axes=F, xlab=\"\", ylab=\"\")\n",
        "legend(\"top\", colnames(rfModel$err.rate),col=1:4,cex=0.8,fill=1:4)\n",
        "\n",
        "val_pred <- predict(treeModel_top_least_10, dataVal, type=\"class\")\n",
        "cm <- confusionMatrix(\n",
        "    data=as.factor(val_pred),\n",
        "    reference=as.factor(dataVal$Resultado),\n",
        "    positive='POSITIVO'\n",
        ")\n",
        "\n",
        "cm_relative <- calculaMatrizConfusaoRelativa(cm)\n",
        "acc_bal <- (cm_relative[1,1] + cm_relative[2,2])/2\n",
        "\n",
        "print(glue('\\n\\n','Random Forest:'))\n",
        "print(glue('>>> Acc balanceada: {acc_bal}', '\\n\\n'))\n",
        "print(glue('>>> Matriz de Confusão:','\\n\\n'))\n",
        "print(format(cm_relative))"
      ],
      "metadata": {
        "id": "1S5DjTzCnoAf"
      },
      "execution_count": null,
      "outputs": []
    },
    {
      "cell_type": "code",
      "source": [
        "# Vamos verificar agora como as acuracias de treinamento e de validcao variam com o numero de arvores na floresta aleatoria\n",
        "nTreeList = c(1, 5, 10, 25, 50, 75, 100, 150, 200, 250, 300, 350, 400, 450, 500)\n",
        "accPerNTrees <- data.frame(ntree=numeric(length(nTreeList)),\n",
        "                           accTrain=numeric(length(nTreeList)),\n",
        "                           accVal=numeric(length(nTreeList)))\n",
        "\n",
        "\n",
        "for (i in 1:length(nTreeList)){\n",
        "    rfModel <- randomForest(\n",
        "        formula=hypothesis,\n",
        "        data=dataTrain,\n",
        "        ntree=nTreeList[i],\n",
        "        mtry=7\n",
        "        )\n",
        "\n",
        "    # Avaliando no conjunto de treino\n",
        "    train_pred <- predict(rfModel, dataTrain, type=\"class\")\n",
        "    cm_train <- confusionMatrix(data = as.factor(train_pred),\n",
        "                                reference = as.factor(dataTrain$Resultado),\n",
        "                                positive='POSITIVO')\n",
        "\n",
        "    cm_relative_train <- calculaMatrizConfusaoRelativa(cm_train)\n",
        "    acc_bal_train <- (cm_relative_train[1,1] + cm_relative_train[2,2])/2\n",
        "\n",
        "    # Avaliando no conjunto de validacao\n",
        "    val_pred <- predict(rfModel, dataVal, type=\"class\")\n",
        "    cm_val <- confusionMatrix(data = as.factor(val_pred),\n",
        "                              reference = as.factor(dataVal$Resultado),\n",
        "                              positive='POSITIVO')\n",
        "\n",
        "    cm_relative_val <- calculaMatrizConfusaoRelativa(cm_val)\n",
        "    acc_bal_val <- (cm_relative_val[1,1] + cm_relative_val[2,2])/2\n",
        "\n",
        "    accPerNTrees[i,] = c(nTreeList[i],\n",
        "                         acc_bal_train,\n",
        "                         acc_bal_val)\n",
        "}\n",
        "\n",
        "# PLOT\n",
        "options(repr.plot.width=12, repr.plot.height=5)\n",
        "\n",
        "accPerNTrees <- melt(accPerNTrees, id=\"ntree\")  # convert to long format\n",
        "p <- ggplot(data=accPerNTrees, aes(x=ntree, y=value, colour=variable)) + geom_line() + geom_point()\n",
        "p <- p + ggtitle(\"Random Forest: ACC por número de Árvores\") + ylab(\"ACC Balanceada\") + xlab(\"Número de Árvores\")\n",
        "p + theme(\n",
        "    plot.title=element_text(hjust=0.5),\n",
        "    legend.position=c(0.5, 0.5),\n",
        "    text=element_text(size=20),\n",
        "    title = element_text(color = \"grey20\", size=18),\n",
        "    panel.background = element_blank(),\n",
        "    panel.grid.minor.y = element_line(size=1),\n",
        "    panel.grid.major = element_line(colour=\"gray\"),\n",
        "    )"
      ],
      "metadata": {
        "id": "ZvQmZtz8ZdrK"
      },
      "execution_count": null,
      "outputs": []
    },
    {
      "cell_type": "markdown",
      "source": [
        "# Avaliando RF no conjunto de teste"
      ],
      "metadata": {
        "id": "IDkmzi46KELH"
      }
    },
    {
      "cell_type": "code",
      "source": [
        "# BEST MODEL\n",
        "\n",
        "rfModel_best <- randomForest(\n",
        "        formula=hypothesis,\n",
        "        data=dataTrain,\n",
        "        ntree=150,\n",
        "        mtry=7\n",
        "        )\n",
        "\n",
        "\n",
        "################## TEST\n",
        "test_pred <- predict(rfModel_best, test, type=\"class\")\n",
        "cm <- confusionMatrix(\n",
        "    data=as.factor(test_pred),\n",
        "    reference = as.factor(test$Resultado),\n",
        "    positive='POSITIVO'\n",
        ")\n",
        "\n",
        "cm_relative <- calculaMatrizConfusaoRelativa(cm)\n",
        "acc_bal <- (cm_relative[1,1] + cm_relative[2,2])/2\n",
        "\n",
        "print(glue('\\n\\n','RF:'))\n",
        "print(glue('>>> TEST: Acc balanceada: {acc_bal}', '\\n\\n'))\n",
        "print(glue('>>> TEST: Matriz de Confusão:','\\n\\n'))\n",
        "print(format(cm_relative))"
      ],
      "metadata": {
        "id": "Cv2DnKMIKGt5"
      },
      "execution_count": null,
      "outputs": []
    },
    {
      "cell_type": "markdown",
      "source": [
        "# RF balanceada\n",
        "## Lendo novamente os dados de treino_val"
      ],
      "metadata": {
        "id": "kXmW0nsipnX_"
      }
    },
    {
      "cell_type": "code",
      "source": [
        "data <- read.csv(\"/content/covid_analysis_train_val_sets.csv\", header=TRUE, stringsAsFactors=TRUE)\n",
        "\n",
        "data <- unique(data)\n",
        "\n",
        "# Train 80% / Val 20%\n",
        "randomTrainIndexes <- sample(1:nrow(data), size=0.8*nrow(data))\n",
        "dataTrain <- data[randomTrainIndexes, ]\n",
        "dataVal  <- data[-randomTrainIndexes, ]"
      ],
      "metadata": {
        "id": "-GTgMZXzsSUx"
      },
      "execution_count": null,
      "outputs": []
    },
    {
      "cell_type": "markdown",
      "source": [
        "# Random Forest modificada considerando balanceamento por arvore"
      ],
      "metadata": {
        "id": "_YFtjSTRKK8Z"
      }
    },
    {
      "cell_type": "code",
      "source": [
        "getRandomForestResults <- function(ntree, m, trainSet, valSet){\n",
        "\n",
        "    # Seleciona os exemplos das classes positivas e negativas\n",
        "    dataNeg <- trainSet[trainSet$Resultado == \"NEGATIVO\",]\n",
        "    dataPos <- trainSet[trainSet$Resultado == \"POSITIVO\",]\n",
        "\n",
        "    lowest_samples <- min(dim(dataNeg)[1], dim(dataPos)[1])\n",
        "\n",
        "    # Matriz de tamano N x M inicializada com zeros. Em que N eh o numero de exemplos no\n",
        "    # conjunto de validacao e M eh o numero de arvores que teremos no Ensemble. Cada coluna\n",
        "    # tera os valores preditos por cada arvore no Ensemble.\n",
        "    valPredictedClasses <- matrix(0, nrow = nrow(valSet), ncol = ntree)\n",
        "\n",
        "    for(i in 1:ntree){\n",
        "        nsamples <- round(runif(1, min=0.85, max=1.0)*lowest_samples)\n",
        "\n",
        "        # Seleciona, com reposicao (ja que o Bagging faz parte da Random Forest),\n",
        "        # os indices da classe negativa\n",
        "        NoIdx <- sample(1:nrow(dataNeg), nsamples, replace = TRUE)\n",
        "\n",
        "        # Seleciona, com reposicao, os indices da classe positiva\n",
        "        YesIdx <- sample(1:nrow(dataPos), nsamples, replace = TRUE)\n",
        "\n",
        "        # Selecionamos aleatoriamente um subconjunto das features originais (desconsiderando o target).\n",
        "        # Ja que, cada arvore  na random forest, eh treinada com um subconjunto dos dados\n",
        "        # tomados com reposicao (duas linha de comando a cima) e um  subconjunto das features.\n",
        "        featuresIdx <- sample(1:(ncol(trainSet)-1), m, replace = FALSE)\n",
        "\n",
        "        # Como desconsideramos o target anteriormente, temos que adiciona-lo de volta para o modelo treinar\n",
        "        featuresIdx <- c(featuresIdx, ncol(trainSet))\n",
        "\n",
        "        # Cria-se o conjunto de treino baseado na selecao de exemplos e features das linhas anteriores\n",
        "        subsetDataTrain <- rbind(dataNeg[NoIdx,featuresIdx],\n",
        "                                dataPos[YesIdx,featuresIdx])\n",
        "\n",
        "        treeModel <- rpart(formula=Resultado ~ .,\n",
        "                        data=subsetDataTrain, method=\"class\",\n",
        "                        control=rpart.control(minsplit=2, cp=0.0, xval = 0),\n",
        "                        parms= list(split=\"information\"))\n",
        "\n",
        "        valPreds <- predict(treeModel, valSet)\n",
        "\n",
        "        # Como vamos contar os votos, precisamos transformar as predicoes em numeros. Assim o\n",
        "        # \"valPreds\" anterior eh uma matriz N x 2 em que N eh o numero de exemplos no conjunto\n",
        "        # de validacao e 2 eh o numero de classes (\"POSITIVO\" ou \"NEGATIVO\"). Assim, se a predicao for \"NEGATIVO\"\n",
        "        # vamos colocar valor 0, mas se for \"POSITIVO\" vamos colocar  valor 1. A linha abaixo realiza esta operacao.\n",
        "        valClasses <- argmax(valPreds) - 1\n",
        "        valPredictedClasses[,i] <- valClasses\n",
        "\n",
        "    }\n",
        "\n",
        "    # Contagem de votos. Por exemplo, se tivermos 5 arvores, podemos ter  a seguinte\n",
        "    # predicao: 1 0 0 1 0. A soma resulta em 2. Assim, a proporcao eh 2/5 = 0.4.\n",
        "    # Ja que 0.4 < 0.5, entao a classe mais votada eh zero.\n",
        "    votes <- rowSums(valPredictedClasses)/ntree\n",
        "    votes[votes >= 0.5] <- 'POSITIVO'\n",
        "    votes[votes < 0.5]  <- 'NEGATIVO'\n",
        "\n",
        "    cm <- confusionMatrix(data=as.factor(votes),\n",
        "                        reference = as.factor(valSet$Resultado),\n",
        "                        positive='POSITIVO')\n",
        "\n",
        "\n",
        "    cm_relative <- calculaMatrizConfusaoRelativa(cm)\n",
        "    acc_bal <- (cm_relative[1,1] + cm_relative[2,2])/2\n",
        "\n",
        "    print(glue('\\n\\n', 'Resultado para {m} atributos:', '\\n\\n'))\n",
        "    print(glue('Acc balanceada: {acc_bal}', '\\n\\n'))\n",
        "    print(glue('Matriz de Confusão:'))\n",
        "    print(format(cm_relative))\n",
        "    accValRandomForest <- c(ntree-1)\n",
        "\n",
        "    return(accValRandomForest)\n",
        "    }\n",
        "\n",
        "# Variando o número de árvores\n",
        "number_of_trees <- c(10,20,50,100,150,200)\n",
        "\n",
        "# Como existem 100 features vamos criarum loop de 10 em 10 features.\n",
        "for (n in number_of_trees) {\n",
        "    print(glue('\\n\\n','Número de Árvores:', n))\n",
        "    for (i in seq(10, 100, by=10)) {\n",
        "        accValRandomForest <- getRandomForestResults(n, i, dataTrain, dataVal)\n",
        "    }\n",
        "}"
      ],
      "metadata": {
        "id": "UWCLghKtsHwn"
      },
      "execution_count": null,
      "outputs": []
    },
    {
      "cell_type": "markdown",
      "source": [
        "# Avaliação no TestSet"
      ],
      "metadata": {
        "id": "hWzjQ9HB1Foc"
      }
    },
    {
      "cell_type": "code",
      "source": [
        "accValRandomForest <- getRandomForestResults(60, 70, dataTrain, test)"
      ],
      "metadata": {
        "id": "06eMKgaiL_EI"
      },
      "execution_count": null,
      "outputs": []
    }
  ]
}